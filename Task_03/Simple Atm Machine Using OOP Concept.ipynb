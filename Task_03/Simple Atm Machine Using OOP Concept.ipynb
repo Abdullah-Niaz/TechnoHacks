{
 "cells": [
  {
   "cell_type": "code",
   "execution_count": 7,
   "id": "0bd17ff8",
   "metadata": {},
   "outputs": [
    {
     "name": "stdin",
     "output_type": "stream",
     "text": [
      "\n",
      "            1. Enter 1 to Set Pin: \n",
      "            2. Enter 2 to Deposit:\n",
      "            3. Enter 3 to Withdrawal:\n",
      "            4. Enter 4 to Check Balance:  1\n",
      "Enter your PIN to SET :  1212\n"
     ]
    },
    {
     "name": "stdout",
     "output_type": "stream",
     "text": [
      "Your PIN is : 1212\n",
      "PIN Set Successfuly\n"
     ]
    }
   ],
   "source": [
    "class Atm:\n",
    "    def __init__(self):\n",
    "        self.balance = 0\n",
    "        self.pin = \"\"\n",
    "        self.menu()\n",
    "    def menu(self):\n",
    "        user_input = input(\"\"\"\n",
    "            1. Enter 1 to Set Pin: \n",
    "            2. Enter 2 to Deposit:\n",
    "            3. Enter 3 to Withdrawal:\n",
    "            4. Enter 4 to Check Balance: \"\"\")\n",
    "        \n",
    "\n",
    "        if user_input == \"1\":\n",
    "            self.create_pin()\n",
    "        if user_input == \"2\":\n",
    "            self.deposit()\n",
    "        if user_input == \"3\":\n",
    "            self.withdrawal()\n",
    "        if user_input == \"4\":\n",
    "            self.check_balance()\n",
    "\n",
    "\n",
    "    def create_pin(self):\n",
    "        self.pin = input(\"Enter your PIN to SET : \")\n",
    "        print(\"Your PIN is : \" + self.pin)\n",
    "        print(\"PIN Set Successfuly\")\n",
    "\n",
    "    def deposit(self):\n",
    "        user_pin = input(\"Enter the PIN to Verify: \")\n",
    "        if user_pin == self.pin:\n",
    "            amount = int(input(\"Enter your amount to deposit : \"))\n",
    "            self.balance = self.balance + amount\n",
    "            print(\"Depsited Successfully\")\n",
    "        else:\n",
    "            print(\"Invalid Pin\")\n",
    "\n",
    "\n",
    "    def withdrawal(self):\n",
    "        user_pin = input(\"Enter the PIN to Verify: \")\n",
    "        if user_pin == self.pin:\n",
    "            amount = int(input(\"Enter your amount to withdraw : \"))\n",
    "            if amount < self.balance:\n",
    "                self.balance = self.balance - amount\n",
    "                print(\"Withdrawn Successfully\")\n",
    "            elif amount <= self.balance:\n",
    "                print(f\"\"\"You can't Withdrawal the Total Amount of your Account which is:\n",
    "                    {amount}\n",
    "                      \"\"\")\n",
    "            else:\n",
    "                print(\"Insufficient Balance\")\n",
    "        else:\n",
    "            print(\"Invalid Pin\")\n",
    "\n",
    "    def check_balance(self):\n",
    "        user_pin = input(\"Enter the PIN to Verify: \")\n",
    "        if user_pin == self.pin:\n",
    "            print(f\"\"\"Your Balance is: {self.balance}\"\"\")\n",
    "        else:\n",
    "            print(\"Invalid Pin\")\n",
    "        \n",
    "\n",
    "hbl = Atm()"
   ]
  },
  {
   "cell_type": "code",
   "execution_count": 8,
   "id": "a63146e7",
   "metadata": {},
   "outputs": [
    {
     "name": "stdin",
     "output_type": "stream",
     "text": [
      "Enter the PIN to Verify:  1212\n",
      "Enter your amount to deposit :  2020\n"
     ]
    },
    {
     "name": "stdout",
     "output_type": "stream",
     "text": [
      "Depsited Successfully\n",
      "2020\n"
     ]
    }
   ],
   "source": [
    "hbl.deposit()\n",
    "print(hbl.balance)"
   ]
  },
  {
   "cell_type": "code",
   "execution_count": 9,
   "id": "f2a07014",
   "metadata": {},
   "outputs": [
    {
     "name": "stdin",
     "output_type": "stream",
     "text": [
      "Enter the PIN to Verify:  1212\n",
      "Enter your amount to withdraw :  2000\n"
     ]
    },
    {
     "name": "stdout",
     "output_type": "stream",
     "text": [
      "Withdrawn Successfully\n",
      "20\n"
     ]
    }
   ],
   "source": [
    "hbl.withdrawal()\n",
    "print(hbl.balance)"
   ]
  },
  {
   "cell_type": "code",
   "execution_count": 10,
   "id": "2f315041",
   "metadata": {},
   "outputs": [
    {
     "name": "stdin",
     "output_type": "stream",
     "text": [
      "Enter the PIN to Verify:  1212\n"
     ]
    },
    {
     "name": "stdout",
     "output_type": "stream",
     "text": [
      "Your Balance is: 20\n"
     ]
    }
   ],
   "source": [
    "hbl.check_balance()"
   ]
  }
 ],
 "metadata": {
  "kernelspec": {
   "display_name": "Python 3 (ipykernel)",
   "language": "python",
   "name": "python3"
  },
  "language_info": {
   "codemirror_mode": {
    "name": "ipython",
    "version": 3
   },
   "file_extension": ".py",
   "mimetype": "text/x-python",
   "name": "python",
   "nbconvert_exporter": "python",
   "pygments_lexer": "ipython3",
   "version": "3.12.0"
  }
 },
 "nbformat": 4,
 "nbformat_minor": 5
}
