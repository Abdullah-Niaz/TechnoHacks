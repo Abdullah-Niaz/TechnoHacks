{
 "cells": [
  {
   "cell_type": "code",
   "execution_count": 28,
   "metadata": {},
   "outputs": [
    {
     "name": "stdout",
     "output_type": "stream",
     "text": [
      "======Calculator======\n",
      "Expression\n",
      "1. Adition + :\n",
      "2. Subtraction - :\n",
      "3. Multiplication * :\n",
      "4. Division / :\n",
      "5. Custom Mathematical Calculation: \n",
      "Result:  11\n"
     ]
    }
   ],
   "source": [
    "# Function Perfroms Addition \n",
    "def add(x,y):\n",
    "    return x + y\n",
    "\n",
    "# Function Perfroms Addition\n",
    "def sub(x,y):\n",
    "    return x - y\n",
    "\n",
    "# Function Perfroms Multiply\n",
    "def multiply(x,y):\n",
    "    return x * y\n",
    "\n",
    "# Function perfroms Divsion\n",
    "def division(x,y):\n",
    "    if(y == 0 ):\n",
    "        return \"Can't divided by Zero\"\n",
    "    else:\n",
    "        return x / y;\n",
    "    \n",
    "# Custom Evaluation \n",
    "def custom_expression(expres):\n",
    "    try:\n",
    "        result = eval(expres)  \n",
    "        return result\n",
    "    except:\n",
    "        return \"Invalid Expression\"\n",
    "\n",
    "def main():\n",
    "    print(\"======Calculator======\")\n",
    "    print(\"Expression\")\n",
    "    print(\"1. Adition + :\")\n",
    "    print(\"2. Subtraction - :\") \n",
    "    print(\"3. Multiplication * :\") \n",
    "    print(\"4. Division / :\")\n",
    "    print(\"5. Custom Mathematical Calculation: \")\n",
    "    Expression = input(\"Enter the Expression No: \")\n",
    "    if Expression in ('1','2','3','4'):\n",
    "        try: \n",
    "            val1 = float(input(\"Enter the First Value: \"))\n",
    "            val2 = float(input(\"Enter the Second Value: \"))\n",
    "        except: \n",
    "            print(\"Invalid Input: Please Enter the Valid Number\")\n",
    "        \n",
    "        \n",
    "        result = 0\n",
    "        \n",
    "        if Expression == '1':\n",
    "            result = add(val1,val2)\n",
    "        if Expression == '2':\n",
    "            result = sub(val1,val2)\n",
    "        if Expression == '3':\n",
    "            result = multiply(val1,val2)\n",
    "        if Expression == '4':\n",
    "            result = division(val1,val2)\n",
    "            \n",
    "        print(\"Result: \",result)\n",
    "        \n",
    "    elif(Expression == '5'):\n",
    "        custom_express = input(\"Enter the Custom: \")\n",
    "        result = custom_expression(custom_express)\n",
    "        print(\"Result: \",result)   \n",
    "         \n",
    "    else:\n",
    "        print(\"Invalid choice. Please select a valid operation.\")\n",
    "        \n",
    "if __name__ == \"__main__\":\n",
    "    main()"
   ]
  }
 ],
 "metadata": {
  "kernelspec": {
   "display_name": "Python 3",
   "language": "python",
   "name": "python3"
  },
  "language_info": {
   "codemirror_mode": {
    "name": "ipython",
    "version": 3
   },
   "file_extension": ".py",
   "mimetype": "text/x-python",
   "name": "python",
   "nbconvert_exporter": "python",
   "pygments_lexer": "ipython3",
   "version": "3.11.5"
  }
 },
 "nbformat": 4,
 "nbformat_minor": 2
}
