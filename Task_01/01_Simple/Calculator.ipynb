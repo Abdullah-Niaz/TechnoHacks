{
 "cells": [
  {
   "cell_type": "code",
   "execution_count": 11,
   "metadata": {},
   "outputs": [
    {
     "name": "stdout",
     "output_type": "stream",
     "text": [
      "Sum:  40\n"
     ]
    }
   ],
   "source": [
    "val1 = int(input(\"Enter the Value1: \"))\n",
    "val2 = int(input(\"Enter the Value2: \"))\n",
    "Expression = input(\"Enter the Expression: -,+,*,/: \")\n",
    "if (Expression == '+'):\n",
    "    print(\"Sum: \",val1 + val2)\n",
    "\n",
    "elif (Expression == '-'):\n",
    "    print(\"Subtraction: \",val1 - val2)\n",
    "\n",
    "elif (Expression == '*'):\n",
    "    print(\"Multiply: \",val1 * val2)\n",
    "\n",
    "elif (Expression == '/'):\n",
    "    print(\"Divide: \",val1 / val2)\n",
    "else:\n",
    "    print(\"Enter the Valid Expression\")"
   ]
  }
 ],
 "metadata": {
  "kernelspec": {
   "display_name": "Python 3",
   "language": "python",
   "name": "python3"
  },
  "language_info": {
   "codemirror_mode": {
    "name": "ipython",
    "version": 3
   },
   "file_extension": ".py",
   "mimetype": "text/x-python",
   "name": "python",
   "nbconvert_exporter": "python",
   "pygments_lexer": "ipython3",
   "version": "3.11.5"
  }
 },
 "nbformat": 4,
 "nbformat_minor": 2
}
