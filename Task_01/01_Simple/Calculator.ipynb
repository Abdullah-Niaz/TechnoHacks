{
 "cells": [
  {
   "cell_type": "code",
   "execution_count": 3,
   "metadata": {},
   "outputs": [],
   "source": [
    "Expression = input(\"Enter the Expression: -,+,*,/: \")\n",
    "val1 = int(input(\"Enter the Value1: \"))\n",
    "val2 = int(input(\"Enter the Value2: \"))\n",
    "if (Expression == '+'):\n",
    "    print(val1 + val2)\n",
    "\n",
    "elif (Expression == '-'):\n",
    "    print(val1 - val2)\n",
    "\n",
    "elif (Expression == '*'):\n",
    "    print(val1 * val2)\n",
    "\n",
    "elif (Expression == '/'):\n",
    "    print(val1 / val2)\n",
    "else:\n",
    "    print(\"Enter the Valid Expression\")"
   ]
  }
 ],
 "metadata": {
  "kernelspec": {
   "display_name": "Python 3",
   "language": "python",
   "name": "python3"
  },
  "language_info": {
   "codemirror_mode": {
    "name": "ipython",
    "version": 3
   },
   "file_extension": ".py",
   "mimetype": "text/x-python",
   "name": "python",
   "nbconvert_exporter": "python",
   "pygments_lexer": "ipython3",
   "version": "3.11.5"
  }
 },
 "nbformat": 4,
 "nbformat_minor": 2
}
