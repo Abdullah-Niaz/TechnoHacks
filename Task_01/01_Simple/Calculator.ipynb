{
 "cells": [
  {
   "cell_type": "code",
   "execution_count": 11,
   "metadata": {},
   "outputs": [
    {
     "ename": "ValueError",
     "evalue": "invalid literal for int() with base 10: ''",
     "output_type": "error",
     "traceback": [
      "\u001b[1;31m---------------------------------------------------------------------------\u001b[0m",
      "\u001b[1;31mValueError\u001b[0m                                Traceback (most recent call last)",
      "\u001b[1;32mc:\\Users\\abdul\\Desktop\\TechnoHacks\\01_Calculator.ipynb Cell 1\u001b[0m line \u001b[0;36m1\n\u001b[1;32m----> <a href='vscode-notebook-cell:/c%3A/Users/abdul/Desktop/TechnoHacks/01_Calculator.ipynb#W0sZmlsZQ%3D%3D?line=0'>1</a>\u001b[0m val1 \u001b[39m=\u001b[39m \u001b[39mint\u001b[39;49m(\u001b[39minput\u001b[39;49m(\u001b[39m\"\u001b[39;49m\u001b[39mEnter the Value1: \u001b[39;49m\u001b[39m\"\u001b[39;49m))\n\u001b[0;32m      <a href='vscode-notebook-cell:/c%3A/Users/abdul/Desktop/TechnoHacks/01_Calculator.ipynb#W0sZmlsZQ%3D%3D?line=1'>2</a>\u001b[0m val2 \u001b[39m=\u001b[39m \u001b[39mint\u001b[39m(\u001b[39minput\u001b[39m(\u001b[39m\"\u001b[39m\u001b[39mEnter the Value2: \u001b[39m\u001b[39m\"\u001b[39m))\n\u001b[0;32m      <a href='vscode-notebook-cell:/c%3A/Users/abdul/Desktop/TechnoHacks/01_Calculator.ipynb#W0sZmlsZQ%3D%3D?line=2'>3</a>\u001b[0m Expression \u001b[39m=\u001b[39m \u001b[39minput\u001b[39m(\u001b[39m\"\u001b[39m\u001b[39mEnter the Expression: -,+,*,/: \u001b[39m\u001b[39m\"\u001b[39m)\n",
      "\u001b[1;31mValueError\u001b[0m: invalid literal for int() with base 10: ''"
     ]
    }
   ],
   "source": [
    "val1 = int(input(\"Enter the Value1: \"))\n",
    "val2 = int(input(\"Enter the Value2: \"))\n",
    "Expression = input(\"Enter the Expression: -,+,*,/: \")\n",
    "if (Expression == '+'):\n",
    "    print(val1 + val2)\n",
    "\n",
    "elif(Expression == '-'):\n",
    "    print(val1 - val2)\n",
    "\n",
    "elif(Expression == '*'):\n",
    "    print(val1 * val2)\n",
    "\n",
    "elif(Expression == '/'):\n",
    "    print(val1 / val2)"
   ]
  }
 ],
 "metadata": {
  "kernelspec": {
   "display_name": "Python 3",
   "language": "python",
   "name": "python3"
  },
  "language_info": {
   "codemirror_mode": {
    "name": "ipython",
    "version": 3
   },
   "file_extension": ".py",
   "mimetype": "text/x-python",
   "name": "python",
   "nbconvert_exporter": "python",
   "pygments_lexer": "ipython3",
   "version": "3.11.5"
  }
 },
 "nbformat": 4,
 "nbformat_minor": 2
}
