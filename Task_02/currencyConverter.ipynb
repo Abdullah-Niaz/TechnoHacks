{
 "cells": [
  {
   "cell_type": "code",
   "execution_count": 3,
   "metadata": {},
   "outputs": [
    {
     "name": "stdin",
     "output_type": "stream",
     "text": [
      "Enter the Amount you Want to Convert:  50\n"
     ]
    },
    {
     "name": "stdout",
     "output_type": "stream",
     "text": [
      "Enter the Name of Current you Want to Convert? Available Options: \n",
      "Argentine Peso\n",
      "Australian Dollar\n",
      "Bahraini Dinar\n",
      "Botswana Pula\n",
      "Brazilian Real\n",
      "British Pound\n",
      "Bruneian Dollar\n",
      "Bulgarian Lev\n",
      "Canadian Dollar\n",
      "Chilean Peso\n",
      "Chinese Yuan Renminbi\n",
      "Colombian Peso\n",
      "Czech Koruna\n",
      "Danish Krone\n",
      "Emirati Dirham\n",
      "Euro\n",
      "Hong Kong Dollar\n",
      "Hungarian Forint\n",
      "Icelandic Krona\n",
      "Indian Rupee\n",
      "Indonesian Rupiah\n",
      "Iranian Rial\n",
      "Israeli Shekel\n",
      "Japanese Yen\n",
      "Kazakhstani Tenge\n",
      "Kuwaiti Dinar\n",
      "Libyan Dinar\n",
      "Malaysian Ringgit\n",
      "Mauritian Rupee\n",
      "Mexican Peso\n",
      "Nepalese Rupee\n",
      "New Zealand Dollar\n",
      "Norwegian Krone\n",
      "Omani Rial\n",
      "Philippine Peso\n",
      "Polish Zloty\n",
      "Qatari Riyal\n",
      "Romanian New Leu\n",
      "Russian Ruble\n",
      "Saudi Arabian Riyal\n",
      "Singapore Dollar\n",
      "South African Rand\n",
      "South Korean Won\n",
      "Sri Lankan Rupee\n",
      "Swedish Krona\n",
      "Swiss Franc\n",
      "Taiwan New Dollar\n",
      "Thai Baht\n",
      "Trinidadian Dollar\n",
      "Turkish Lira\n",
      "US Dollar\n",
      "Venezuelan Bolivar\n"
     ]
    },
    {
     "name": "stdin",
     "output_type": "stream",
     "text": [
      "Enter the Current Name from the availabe Options:  Indian Rupee\n"
     ]
    },
    {
     "name": "stdout",
     "output_type": "stream",
     "text": [
      "50 PKR is equal to 15.092149999999998 Indian Rupee\n"
     ]
    }
   ],
   "source": [
    "with open(\"currencyData.txt\") as f:\n",
    "    lines = f.readlines()\n",
    "\n",
    "CurrencyDict = {}\n",
    "for line in lines:\n",
    "    parsed = line.split(\"\\t\")\n",
    "    CurrencyDict[parsed[0]] = parsed[1]\n",
    "    \n",
    "amount = int(input(\"Enter the Amount you Want to Convert: \"))\n",
    "print(\"Enter the Name of Current you Want to Convert? Available Options: \")\n",
    "[print(CurrencyName) for CurrencyName in CurrencyDict.keys()]\n",
    "Currency = input(\"Enter the Current Name from the availabe Options: \")\n",
    "print(f\"{amount} PKR is equal to {amount * float(CurrencyDict[Currency])} {Currency}\")"
   ]
  }
 ],
 "metadata": {
  "kernelspec": {
   "display_name": "Python 3 (ipykernel)",
   "language": "python",
   "name": "python3"
  },
  "language_info": {
   "codemirror_mode": {
    "name": "ipython",
    "version": 3
   },
   "file_extension": ".py",
   "mimetype": "text/x-python",
   "name": "python",
   "nbconvert_exporter": "python",
   "pygments_lexer": "ipython3",
   "version": "3.12.0"
  }
 },
 "nbformat": 4,
 "nbformat_minor": 4
}
