{
 "cells": [
  {
   "cell_type": "code",
   "execution_count": null,
   "metadata": {},
   "outputs": [],
   "source": [
    "with open(\"currencyData.txt\") as f:\n",
    "    lines = f.readlines()\n",
    "\n",
    "CurrencyDict = {}\n",
    "for line in lines:\n",
    "    parsed = line.split(\"\\t\")\n",
    "    CurrencyDict[parsed[0]] = parsed[1]\n",
    "    \n",
    "amount = int(input(\"Enter the Amount you Want to Convert: \"))\n",
    "print(\"Enter the Name of Current you Want to Convert? Available Options: \")\n",
    "[print(CurrencyName) for CurrencyName in CurrencyDict.keys()]\n",
    "Currency = input(\"Enter the Current Name from the availabe Options: \")\n",
    "print(f\"{amount} PKR is equal to {amount * float(CurrencyDict[Currency])} {Currency}\")"
   ]
  }
 ],
 "metadata": {
  "kernelspec": {
   "display_name": "Python 3",
   "language": "python",
   "name": "python3"
  },
  "language_info": {
   "codemirror_mode": {
    "name": "ipython",
    "version": 3
   },
   "file_extension": ".py",
   "mimetype": "text/x-python",
   "name": "python",
   "nbconvert_exporter": "python",
   "pygments_lexer": "ipython3",
   "version": "3.12.0"
  }
 },
 "nbformat": 4,
 "nbformat_minor": 2
}
